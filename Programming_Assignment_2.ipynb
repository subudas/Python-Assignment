{
 "cells": [
  {
   "cell_type": "raw",
   "id": "10ad6861",
   "metadata": {},
   "source": [
    "#1. Write a Python program to convert kilometers to miles?\n",
    "\n",
    "km = float(input(\"Enter the km required to be converted to miles: \"))\n",
    "miles = 0.621371*km\n",
    "print('%0.2f kilometers is equal to %0.2f miles' %(km,miles))"
   ]
  },
  {
   "cell_type": "raw",
   "id": "16086c54",
   "metadata": {},
   "source": [
    "#2. Write a Python program to convert Celsius to Fahrenheit?\n",
    "\n",
    "celsius = float(input(\"Enter the temperature: \"))\n",
    "farhenheit = (celsius * 9/5) + 32\n",
    "print(\"%.1f Celsius is equal to %.1f Farhenheit\" %(celsius,farhenheit))"
   ]
  },
  {
   "cell_type": "raw",
   "id": "a94d1f9f",
   "metadata": {},
   "source": [
    "#3. Write a Python program to display calendar?\n",
    "\n",
    "import calendar\n",
    "year = int(input(\"Enter the year for which you need calendar: \"))\n",
    "month = int(input(\"Enter the month of the year as number: \"))\n",
    "print(calendar.month(year,month))"
   ]
  },
  {
   "cell_type": "raw",
   "id": "d8c0f740",
   "metadata": {},
   "source": [
    "#4. Write a Python program to solve quadratic equation?\n",
    "\n",
    "import cmath\n",
    "\n",
    "a = 1\n",
    "b = -2\n",
    "c = -15\n",
    "\n",
    "dis = (b**2)-(4*a*c)\n",
    "result1 = (-b-cmath.sqrt(dis))/(2*a)\n",
    "result2 = (-b+cmath.sqrt(dis))/(2*a)\n",
    "\n",
    "print(\"The roots are\")\n",
    "print(result1)\n",
    "print(result2)"
   ]
  },
  {
   "cell_type": "raw",
   "id": "6d72ed40",
   "metadata": {},
   "source": [
    "5. Write a Python program to swap two variables without temp variable?\n",
    "\n",
    "x = 5\n",
    "y = 10\n",
    "\n",
    "x=x^y\n",
    "y = y^x\n",
    "x = x^y\n",
    "print(x)\n",
    "print(y)"
   ]
  }
 ],
 "metadata": {
  "kernelspec": {
   "display_name": "Python 3 (ipykernel)",
   "language": "python",
   "name": "python3"
  },
  "language_info": {
   "codemirror_mode": {
    "name": "ipython",
    "version": 3
   },
   "file_extension": ".py",
   "mimetype": "text/x-python",
   "name": "python",
   "nbconvert_exporter": "python",
   "pygments_lexer": "ipython3",
   "version": "3.9.7"
  }
 },
 "nbformat": 4,
 "nbformat_minor": 5
}
