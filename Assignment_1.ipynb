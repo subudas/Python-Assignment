{
 "cells": [
  {
   "cell_type": "raw",
   "id": "5ea4569e",
   "metadata": {},
   "source": [
    "1. In the below elements which of them are values or an expression? eg:- values can be\n",
    "integer or string and expressions will be mathematical operators.\n",
    "\n",
    "* \n",
    "\n",
    "'hello'\n",
    "\n",
    "-87.8\n",
    "\n",
    "-\n",
    "\n",
    "/\n",
    "\n",
    "+\n",
    "\n",
    "6\n",
    "\n",
    "Answer:- From above expression are * - / +\n",
    "         From above values are 'hello' -87.8 6\n"
   ]
  },
  {
   "cell_type": "raw",
   "id": "1e57411b",
   "metadata": {},
   "source": [
    "2. What is the difference between string and variable?\n",
    "\n",
    "Answer:- String is a data type and variable is reserved memory location to store values"
   ]
  },
  {
   "cell_type": "raw",
   "id": "5a0e8292",
   "metadata": {},
   "source": [
    "3. Describe three different data types.\n",
    "\n",
    "Answer:- String used to represent character eg:- \"Hello\"\n",
    "         Integer used to represent numbers eg:- 7, -7\n",
    "         Float used to represent numbers with decimal or floating number eg:- 7.2"
   ]
  },
  {
   "cell_type": "raw",
   "id": "0fee3036",
   "metadata": {},
   "source": [
    "4. What is an expression made up of? What do all expressions do?\n",
    "Answer:- Expression is combination of operators and values to produce some other value\n",
    "         Expression to find result as per operator and values\n",
    "         eg;- 2+3 ,\"Hello\"*3      "
   ]
  },
  {
   "cell_type": "raw",
   "id": "c93dc74d",
   "metadata": {},
   "source": [
    "5. This assignment statements, like spam = 10. What is the difference between an\n",
    "expression and a statement?\n",
    "Answer:- Here spam = 10 is assignment statement and there is no evaluation or operation to find a other value\n",
    "         while in expression we will evaluate it by adding, multiplying or subtracting it"
   ]
  },
  {
   "cell_type": "raw",
   "id": "7a49cce5",
   "metadata": {},
   "source": [
    "6. After running the following code, what does the variable bacon contain?\n",
    "bacon = 22\n",
    "bacon + 1\n",
    "\n",
    "Answer:- Bacon variable contains 22 as we haven't changed the variable bacon"
   ]
  },
  {
   "cell_type": "raw",
   "id": "27df2a41",
   "metadata": {},
   "source": [
    "7. What should the values of the following two terms be?\n",
    "'spam' +'spamspam'\n",
    "'spam'*3\n",
    "Answer: spamspamspam"
   ]
  },
  {
   "cell_type": "raw",
   "id": "31667c5a",
   "metadata": {},
   "source": [
    "8.Why is eggs a valid variable name while 100 is invalid?\n",
    "Answer:- Variable cannot start with a digit so egg is a valid variable and 100 is not valid"
   ]
  },
  {
   "cell_type": "raw",
   "id": "eed8bd01",
   "metadata": {},
   "source": [
    "9. What three functions can be used to get the integer, floating-point number, or string\n",
    "version of a value?\n",
    "\n",
    "Answer:- If value is 10 eg:- a = 10\n",
    "         str(a) = '10'\n",
    "         int(a) = 10\n",
    "         float(a) = 10.0"
   ]
  },
  {
   "cell_type": "raw",
   "id": "07901ce6",
   "metadata": {},
   "source": [
    "10. Why does this expression cause an error? How can you fix it?\n",
    "'I have eaten '+99+' burritos.'\n",
    "Answer:- Concatenation of string and integer is not allowed. Integer to be typcasted to string\n",
    "\n",
    "To fix it we need to write it as below:- \n",
    "print('I have eaten '+str(99)+' burritos.')\n",
    "\n"
   ]
  }
 ],
 "metadata": {
  "kernelspec": {
   "display_name": "Python 3 (ipykernel)",
   "language": "python",
   "name": "python3"
  },
  "language_info": {
   "codemirror_mode": {
    "name": "ipython",
    "version": 3
   },
   "file_extension": ".py",
   "mimetype": "text/x-python",
   "name": "python",
   "nbconvert_exporter": "python",
   "pygments_lexer": "ipython3",
   "version": "3.9.7"
  }
 },
 "nbformat": 4,
 "nbformat_minor": 5
}
