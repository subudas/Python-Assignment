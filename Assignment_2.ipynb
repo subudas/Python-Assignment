{
 "cells": [
  {
   "cell_type": "raw",
   "id": "e92182b5",
   "metadata": {},
   "source": [
    "1.What are the two values of the Boolean data type? How do you write them?\n",
    "Ans:- 1 and 0 are two values of boolean data type. 1 as True and 0 as False"
   ]
  },
  {
   "cell_type": "raw",
   "id": "2fbf9e0d",
   "metadata": {},
   "source": [
    "2.What are the three different types of Boolean operators?\n",
    "Ans:- AND, OR and NOT are three boolean operators"
   ]
  },
  {
   "cell_type": "raw",
   "id": "1f38a5ef",
   "metadata": {},
   "source": [
    "3. Make a list of each Boolean operator's truth tables (i.e. every possible combination of Boolean\n",
    "values for the operator and what it evaluate ).\n",
    "Ans:-\n",
    "\n",
    "1--> True and 0--> False\n",
    "\n",
    "For not operator (1 input):- \n",
    "\n",
    "    Input   Output\n",
    "       1      0\n",
    "       0      1\n",
    "       \n",
    " For AND Operator (2 input):-\n",
    "      \n",
    "      Input1 Input2  Output(And Result)\n",
    "          0   0         0\n",
    "          0   1         0\n",
    "          1   0         0\n",
    "          1   1         1\n",
    "\n",
    " For OR Operator (2 input):-\n",
    "      \n",
    "      Input1 Input2  Output(OR Result)\n",
    "          0   0         0\n",
    "          0   1         1\n",
    "          1   0         1\n",
    "          1   1         1"
   ]
  },
  {
   "cell_type": "raw",
   "id": "0404060a",
   "metadata": {},
   "source": [
    "4. What are the values of the following expressions?\n",
    "\n",
    "(5>4) and (3 == 5)\n",
    "Ans:- False\n",
    "\n",
    "not (5>4)\n",
    "Ans:- False\n",
    "\n",
    "(5>4) or (3 == 5)\n",
    "Ans:- True\n",
    "\n",
    "not ((5>4) or (3 == 5))\n",
    "Ans:- False\n",
    "\n",
    "(True and True) and (True == False)\n",
    "Ans:- False\n",
    "\n",
    "(not False) or (not True)\n",
    "Ans:- True"
   ]
  },
  {
   "cell_type": "raw",
   "id": "ac1e7f96",
   "metadata": {},
   "source": [
    "5. What are the six comparison operators?\n",
    "Ans:- Equal to ==\n",
    "      Greater than >\n",
    "      Less than <\n",
    "      Greater than or equal to >=\n",
    "      Less than or equal to <=\n",
    "      Not equal to !="
   ]
  },
  {
   "cell_type": "raw",
   "id": "b7fc5dfc",
   "metadata": {},
   "source": [
    "6. How do you tell the difference between the equal to and assignment operators? Describe a\n",
    "condition and when you would use one.\n",
    "\n",
    "Ans:- Equal is denoted by '==' and Assignment denoted by '='\n",
    "\n",
    "Assignment operator is to assign value to the variable. eg:- x =5 (5 is stored in the variable x)\n",
    "\n",
    "Equal to operator compares value. eg:- x==6 (5 is stored in x and will be compared with 6)\n",
    "\n",
    "If we want to store variable we will use assignment operator and if we want to compare and evaluate values with stored variable we will use equal to operator"
   ]
  },
  {
   "cell_type": "raw",
   "id": "a5fc2f0f",
   "metadata": {},
   "source": [
    "7. Identify the three blocks in this code:\n",
    "spam = 0\n",
    "if spam == 10:\n",
    "print('eggs')\n",
    "if spam > 5:\n",
    "print('bacon')\n",
    "else:\n",
    "print('ham')\n",
    "print('spam')\n",
    "print('spam')\n",
    "\n",
    "Ans:- Indentation is missing for 2 if condition and 1 else condition. See below correct code. \n",
    "\n",
    "\n",
    "spam = 0\n",
    "if spam == 10:\n",
    "    print('eggs')\n",
    "if spam > 5:\n",
    "    print('bacon')\n",
    "else:\n",
    "    print('ham')\n",
    "print('spam')\n",
    "print('spam')"
   ]
  },
  {
   "cell_type": "raw",
   "id": "373d2e92",
   "metadata": {},
   "source": [
    "8. Write code that prints Hello if 1 is stored in spam, prints Howdy if 2 is stored in spam, and prints\n",
    "Greetings! if anything else is stored in spam.\n",
    "\n",
    "Ans:-\n",
    "\n",
    "spam = int(input(\"Enter the number:- \"))\n",
    "\n",
    "if spam ==1:\n",
    "    print(\"Hello\")\n",
    "elif spam ==2:\n",
    "    print(\"Howdy\")\n",
    "else:\n",
    "    print(\"Greetings!\")"
   ]
  },
  {
   "cell_type": "raw",
   "id": "e6691b34",
   "metadata": {},
   "source": [
    "9.If your programme is stuck in an endless loop, what keys you’ll press?\n",
    "\n",
    "Ans:- Ctrl+C"
   ]
  },
  {
   "cell_type": "raw",
   "id": "d375f047",
   "metadata": {},
   "source": [
    "10. How can you tell the difference between break and continue?\n",
    "\n",
    "Ans:- If the loop is terminated immediately once the condition is True BREAK is used (Loop is breaked)\n",
    "      If the loop is not met for a condition once then Continue is used (1 iteration is not executed)"
   ]
  },
  {
   "cell_type": "raw",
   "id": "99da2edd",
   "metadata": {},
   "source": [
    "11. In a for loop, what is the difference between range(10), range(0, 10), and range(0, 10, 1)?\n",
    "\n",
    "Ans:- There is no difference between range(10),range(0, 10) and range(0, 10, 1) as python takes start as 0 and step_size as 1 as default. (If start and step_size are not defined)"
   ]
  },
  {
   "cell_type": "raw",
   "id": "88ba6cfe",
   "metadata": {},
   "source": [
    "12. Write a short program that prints the numbers 1 to 10 using a for loop. Then write an equivalent\n",
    "program that prints the numbers 1 to 10 using a while loop.\n",
    "\n",
    "Ans:-\n",
    "\n",
    "For Loop:-\n",
    "\n",
    "for i in range(1,11):\n",
    "    print(i)\n",
    "    \n",
    "While Loop:-\n",
    "\n",
    "i = 1\n",
    "while (i <= 10):\n",
    "    print(i)\n",
    "    i=i+1"
   ]
  },
  {
   "cell_type": "raw",
   "id": "730fc107",
   "metadata": {},
   "source": [
    "13. If you had a function named bacon() inside a module named spam, how would you call it after\n",
    "importing spam?\n",
    "\n",
    "Ans:- spam.bacon()"
   ]
  }
 ],
 "metadata": {
  "kernelspec": {
   "display_name": "Python 3 (ipykernel)",
   "language": "python",
   "name": "python3"
  },
  "language_info": {
   "codemirror_mode": {
    "name": "ipython",
    "version": 3
   },
   "file_extension": ".py",
   "mimetype": "text/x-python",
   "name": "python",
   "nbconvert_exporter": "python",
   "pygments_lexer": "ipython3",
   "version": "3.9.7"
  }
 },
 "nbformat": 4,
 "nbformat_minor": 5
}
