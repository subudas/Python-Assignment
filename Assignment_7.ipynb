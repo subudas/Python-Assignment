{
 "cells": [
  {
   "cell_type": "raw",
   "id": "20f71820",
   "metadata": {},
   "source": [
    "1. What is the name of the feature responsible for generating Regex objects?\n",
    "Ans:- re.compile() is responsible for generating regex objects"
   ]
  },
  {
   "cell_type": "raw",
   "id": "9e9bf58e",
   "metadata": {},
   "source": [
    "2. Why do raw strings often appear in Regex objects?\n",
    "Ans:- Raw strings often appear in Regex objects so backslashes cannot be escaped"
   ]
  },
  {
   "cell_type": "raw",
   "id": "d5970e2b",
   "metadata": {},
   "source": [
    "3. What is the return value of the search() method?\n",
    "Ans:- It will return the first match in the string"
   ]
  },
  {
   "cell_type": "raw",
   "id": "a79786cc",
   "metadata": {},
   "source": [
    "4. From a Match item, how do you get the actual strings that match the pattern?\n",
    "Ans:- The group() method returns the actual string from the pattern"
   ]
  },
  {
   "cell_type": "raw",
   "id": "ab704453",
   "metadata": {},
   "source": [
    "5. In the regex which created from the r'(\\d\\d\\d)-(\\d\\d\\d-\\d\\d\\d\\d)', what does group zero cover?\n",
    "Group 2? Group 1?\n",
    "Ans:- Group 0 covers the entire match, group 1 covers the first set of paranthesis and group 2 covers the second set of parenthesis"
   ]
  },
  {
   "cell_type": "raw",
   "id": "b053fff8",
   "metadata": {},
   "source": [
    "6. In standard expression syntax, parentheses and intervals have distinct meanings. How can you tell a regex that you want it to fit real parentheses and periods?\n",
    "\n",
    "Ans:- If we want real paranthesis to be checked in our expression then we need to use r\"\\(\" and for periods r\"\\.\""
   ]
  },
  {
   "cell_type": "raw",
   "id": "86bbc6ca",
   "metadata": {},
   "source": [
    "7. The findall() method returns a string list or a list of string tuples. What causes it to return one of the two options?\n",
    "Ans:- If the pattern includes 2 or more paranthesis groups,then instead of returning a list of strings, findall() returns a list of tuples"
   ]
  },
  {
   "cell_type": "raw",
   "id": "4e46b091",
   "metadata": {},
   "source": [
    "8. In standard expressions, what does the | character mean?\n",
    "Ans:- | pipe character allows regular expression to be logically ORed."
   ]
  },
  {
   "cell_type": "raw",
   "id": "fe64fc11",
   "metadata": {},
   "source": [
    "9. In regular expressions, what does the character stand for?\n",
    "Ans:- ? question mark character allows optional in regex.\n",
    "\n",
    "In below example _ is optional so we use ?\n",
    "\n",
    "import re\n",
    "test_string = 'hello_123'\n",
    "pattern = re.compile(r\"_?\\d\")\n",
    "matches = pattern.finditer(test_string)\n",
    "for match in matches:\n",
    "    print(match)"
   ]
  },
  {
   "cell_type": "raw",
   "id": "b1942875",
   "metadata": {},
   "source": [
    "10.In regular expressions, what is the difference between the + and * characters?\n",
    "Ans:- + quantifier matches one or more and * quantifier matches zero or more in given expression"
   ]
  },
  {
   "cell_type": "raw",
   "id": "d59e1b3c",
   "metadata": {},
   "source": [
    "11. What is the difference between {4} and {4,5} in regular expression?\n",
    "Ans:- {4} gives 4 occurences and {4,5} gives 4 and 5 occurences in given expression."
   ]
  },
  {
   "cell_type": "raw",
   "id": "6d780b74",
   "metadata": {},
   "source": [
    "12. What do you mean by the \\d, \\w, and \\s shorthand character classes signify in regular\n",
    "expressions?\n",
    "Ans:- \\d matches any decimal digit equivalent to class [0-9]\n",
    "      \\w matches any alphanumeric (word) character equivalent to class [a-zA-Z0-9_]\n",
    "      \\s matches any whitespace character      "
   ]
  },
  {
   "cell_type": "raw",
   "id": "dc73b4f7",
   "metadata": {},
   "source": [
    "13. What do means by \\D, \\W, and \\S shorthand character classes signify in regular expressions?\n",
    "Ans:- \\D Matches any non-digit character equivalent to class [^0-9]\n",
    "      \\W Matches any non-alphanumeric character this is equivalent to [^a-zA-Z0-9_]\n",
    "      \\S Matches any non whitespace character"
   ]
  },
  {
   "cell_type": "raw",
   "id": "3c7436d1",
   "metadata": {},
   "source": [
    "14. What is the difference between .*? and .*?\n",
    "Ans:- In .*? * is optional in match whereas in .* it * is not optional (It will match both .* characters in given expression)"
   ]
  },
  {
   "cell_type": "raw",
   "id": "afe3f49d",
   "metadata": {},
   "source": [
    "15. What is the syntax for matching both numbers and lowercase letters with a character class?\n",
    "Ans:- [0-9a-z] is the class needed for matching both numbers and lowercase letters"
   ]
  },
  {
   "cell_type": "raw",
   "id": "3294cc14",
   "metadata": {},
   "source": [
    "16. What is the procedure for making a normal expression in regax case insensitive?\n",
    "Ans:- Using re.IGNORECASE or re.I in re.compile()\n",
    "      my_string = \"Hello World\"\n",
    "      pattern = re.compile(r\"world\",re.IGNORECASE)\n",
    "      matches = pattern.finditer(my_string)\n",
    "          for match in matches:\n",
    "          print(match)\n",
    "Here world in re.compile case sensitive is ignored."
   ]
  },
  {
   "cell_type": "raw",
   "id": "8061c695",
   "metadata": {},
   "source": [
    "17. What does the . character normally match? What does it match if re.DOTALL is passed as 2nd\n",
    "argument in re.compile()?\n",
    "Ans:- .character matches any character except newline character. If we use re.DOTALL as 2nd argument in re.compile() then it will include new line character"
   ]
  },
  {
   "cell_type": "raw",
   "id": "8ba5f94e",
   "metadata": {},
   "source": [
    "18. If numReg = re.compile(r'\\d+'), what will numRegex.sub('X', '11 drummers, 10 pipers, five rings, 4 hen') return?\n",
    "Ans:- 'X drummers,X pipers, five rings, X hen'"
   ]
  },
  {
   "cell_type": "raw",
   "id": "ee648f89",
   "metadata": {},
   "source": [
    "19. What does passing re.VERBOSE as the 2nd argument to re.compile() allow to do?\n",
    "Ans:- re.VERBOSE argument allows you to add whitespace and comments to the string passed to re.compile()"
   ]
  },
  {
   "cell_type": "raw",
   "id": "70bdd6ce",
   "metadata": {},
   "source": [
    "20. How would you write a regex that match a number with comma for every three digits? It must\n",
    "match the given following:\n",
    "'42'\n",
    "'1,234'\n",
    "'6,368,745'\n",
    "\n",
    "but not the following:\n",
    "'12,34,567' (which has only two digits between the commas)\n",
    "'1234' (which lacks commas)\n",
    "\n",
    "Ans:- re.compile(r'^\\d{1,3}(,\\d{3})*$')"
   ]
  },
  {
   "cell_type": "raw",
   "id": "df071f58",
   "metadata": {},
   "source": [
    "22. How would you write a regex that matches a sentence where the first word is either Alice, Bob,\n",
    "or Carol; the second word is either eats, pets, or throws; the third word is apples, cats, or baseballs;\n",
    "and the sentence ends with a period? This regex should be case-insensitive. It must match the\n",
    "following:\n",
    "'Alice eats apples.'\n",
    "'Bob pets cats.'\n",
    "'Carol throws baseballs.'\n",
    "'Alice throws Apples.'\n",
    "'BOB EATS CATS.'\n",
    "but not the following:\n",
    "'RoboCop eats apples.'\n",
    "'ALICE THROWS FOOTBALLS.'\n",
    "'Carol eats 7 cats.'\n",
    "\n",
    "Ans:- re.compile(r'(Alice|Bob|Carol)\\s(eats|pets|throws)\\s(apples|cats|baseballs).', re.IGNORECASE)"
   ]
  }
 ],
 "metadata": {
  "kernelspec": {
   "display_name": "Python 3 (ipykernel)",
   "language": "python",
   "name": "python3"
  },
  "language_info": {
   "codemirror_mode": {
    "name": "ipython",
    "version": 3
   },
   "file_extension": ".py",
   "mimetype": "text/x-python",
   "name": "python",
   "nbconvert_exporter": "python",
   "pygments_lexer": "ipython3",
   "version": "3.9.7"
  }
 },
 "nbformat": 4,
 "nbformat_minor": 5
}
