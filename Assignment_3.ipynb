{
 "cells": [
  {
   "cell_type": "raw",
   "id": "3371822b",
   "metadata": {},
   "source": [
    "1. Why are functions advantageous to have in your programs?\n",
    "Ans:- Function helps to simplify coding so code is more readable. Repetitive coding can be done by creating Function and so saving time. "
   ]
  },
  {
   "cell_type": "raw",
   "id": "d912fcee",
   "metadata": {},
   "source": [
    "2. When does the code in a function run: when it&#39;s specified or when it's called?\n",
    "Ans:- Function runs when it is called\n",
    "\n",
    "Here function is specified\n",
    "def add(a,b):\n",
    "    return a+b\n",
    "\n",
    "Function will work when we call as below\n",
    "print(add(7,3))"
   ]
  },
  {
   "cell_type": "raw",
   "id": "d8fc7d91",
   "metadata": {},
   "source": [
    "3. What statement creates a function?\n",
    "Ans:- def keyword creates function"
   ]
  },
  {
   "cell_type": "raw",
   "id": "5200d331",
   "metadata": {},
   "source": [
    "4. What is the difference between a function and a function call?\n",
    "Ans:- Function is where we define a set of logic to be used repetitively in program\n",
    "eg:-\n",
    "def add(a,b):\n",
    "    return a+b\n",
    " \n",
    " Function call is where we need to use the function in program (to avoid repetition)\n",
    " \n",
    " eg:- \n",
    " print(add(7,3))\n",
    " print(add(2,5))"
   ]
  },
  {
   "cell_type": "raw",
   "id": "820773cd",
   "metadata": {},
   "source": [
    "5. How many global scopes are there in a Python program? How many local scopes?\n",
    "Ans:- 1 global scope for a entire defined python program\n",
    "      Scope of local variable is limited to the function where it is defined "
   ]
  },
  {
   "cell_type": "raw",
   "id": "26352016",
   "metadata": {},
   "source": [
    "6. What happens to variables in a local scope when the function call returns?\n",
    "Ans:- Each call of the function creates new local variables and when function call returns the variable is destroyed."
   ]
  },
  {
   "cell_type": "raw",
   "id": "fd76a125",
   "metadata": {},
   "source": [
    "7.What is the concept of a return value? Is it possible to have a return value in an expression?\n",
    "Ans:- return statement ends the execution of function and returns control to the calling function. A return statement returns value to the calling function. Yes we can use return value as a part of expression"
   ]
  },
  {
   "cell_type": "raw",
   "id": "11ef03e3",
   "metadata": {},
   "source": [
    "8. If a function does not have a return statement, what is the return value of a call to that function?\n",
    "Ans:- It will be None"
   ]
  },
  {
   "cell_type": "raw",
   "id": "43dbd613",
   "metadata": {},
   "source": [
    "9. How do you make a function variable refer to the global variable?\n",
    "Ans:- Using global keyword in a function to refer it as a global variable"
   ]
  },
  {
   "cell_type": "raw",
   "id": "7a9f3ef8",
   "metadata": {},
   "source": [
    "10. What is the data type of None?\n",
    "Ans:- Data type of None is None Type"
   ]
  },
  {
   "cell_type": "raw",
   "id": "51dcbf41",
   "metadata": {},
   "source": [
    "11. What does the sentence import areallyourpetsnamederic do?\n",
    "Ans:- This sentence will import areallyourpetsnamederic and in console you get error ModuleNotFoundError"
   ]
  },
  {
   "cell_type": "raw",
   "id": "67fb4d99",
   "metadata": {},
   "source": [
    "12. If you had a bacon() feature in a spam module, what would you call it after importing spam?\n",
    "Ans:- spam.bacon()"
   ]
  },
  {
   "cell_type": "raw",
   "id": "c0941064",
   "metadata": {},
   "source": [
    "13. What can you do to save a programme from crashing if it encounters an error?\n",
    "Ans:- We can use try clause to save a program from crashing if it encounters an error."
   ]
  },
  {
   "cell_type": "raw",
   "id": "7574984f",
   "metadata": {},
   "source": [
    "14. What is the purpose of the try clause? What is the purpose of the except clause?\n",
    "Ans:- The purpose of try clause is to check a block of code to be tested for errors while it is being executed\n",
    "      Except clause is used to catch and handle the exception (error) that are encountered during execution of try clause"
   ]
  }
 ],
 "metadata": {
  "kernelspec": {
   "display_name": "Python 3 (ipykernel)",
   "language": "python",
   "name": "python3"
  },
  "language_info": {
   "codemirror_mode": {
    "name": "ipython",
    "version": 3
   },
   "file_extension": ".py",
   "mimetype": "text/x-python",
   "name": "python",
   "nbconvert_exporter": "python",
   "pygments_lexer": "ipython3",
   "version": "3.9.7"
  }
 },
 "nbformat": 4,
 "nbformat_minor": 5
}
