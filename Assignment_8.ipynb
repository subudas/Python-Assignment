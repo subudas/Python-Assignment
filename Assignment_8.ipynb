{
 "cells": [
  {
   "cell_type": "raw",
   "id": "b49546af",
   "metadata": {},
   "source": [
    "1. Is the Python Standard Library included with PyInputPlus?\n",
    "Ans:- No PyInputPlus is not included in Python Standard Library. It is a third party module."
   ]
  },
  {
   "cell_type": "raw",
   "id": "07833b5f",
   "metadata": {},
   "source": [
    "2. Why is PyInputPlus commonly imported with import pyinputplus as pypi?\n",
    "Ans:- For the convenience of programming import pyinputplus as pypi is used."
   ]
  },
  {
   "cell_type": "raw",
   "id": "ee71a243",
   "metadata": {},
   "source": [
    "3. How do you distinguish between inputInt() and inputFloat()?\n",
    "Ans:-inputInt() function returns integer value and inputFloat() function returns float value. For input 2 inputInt() returns 2 and inputFloat() returns 2.0"
   ]
  },
  {
   "cell_type": "raw",
   "id": "eab0071f",
   "metadata": {},
   "source": [
    "4.Using PyInputPlus, how do you ensure that the user enters a whole number between 0 and 99?\n",
    "Ans:- Using pypi.inputInt(min =0, max =99)"
   ]
  },
  {
   "cell_type": "raw",
   "id": "7b78d851",
   "metadata": {},
   "source": [
    "5. What is transferred to the keyword arguments allowRegexes and blockRegexes?\n",
    "Ans:- allowRegexes and blockRegexes keyword argument take a list of regular expression strings to determine what the PyInputPlus function will accept or reject as valid input"
   ]
  },
  {
   "cell_type": "raw",
   "id": "44c7f54e",
   "metadata": {},
   "source": [
    "6. If a blank input is entered three times, what does inputStr(limit=3) do?\n",
    "Ans:-It will give 3 times Blank values are not allowed and then throw RetryLimitException"
   ]
  },
  {
   "cell_type": "raw",
   "id": "8208d8d0",
   "metadata": {},
   "source": [
    "7. If blank input is entered three times, what does inputStr(limit=3, default='hello') do?\n",
    "Ans:- When we use limit =3 and default = \"Hello\" the function returns default value instead of raising exception.\n",
    "It will give 3 times Blank Values are not allowed and then print \"Hello\""
   ]
  }
 ],
 "metadata": {
  "kernelspec": {
   "display_name": "Python 3 (ipykernel)",
   "language": "python",
   "name": "python3"
  },
  "language_info": {
   "codemirror_mode": {
    "name": "ipython",
    "version": 3
   },
   "file_extension": ".py",
   "mimetype": "text/x-python",
   "name": "python",
   "nbconvert_exporter": "python",
   "pygments_lexer": "ipython3",
   "version": "3.9.7"
  }
 },
 "nbformat": 4,
 "nbformat_minor": 5
}
