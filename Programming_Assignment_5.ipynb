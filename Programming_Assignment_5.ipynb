{
 "cells": [
  {
   "cell_type": "raw",
   "id": "8170ee27",
   "metadata": {},
   "source": [
    "# Write a Python Program to Find LCM?\n",
    "def LCM(a,b):\n",
    "    \"\"\"This function is used to find LCM of given 2 no's\"\"\"\n",
    "    maxNum = max(a,b)\n",
    "    while True:\n",
    "        if maxNum%a ==0 and maxNum%b ==0:\n",
    "            break\n",
    "        maxNum = maxNum+1\n",
    "    return (f\"The LCM of {a} and {b} is {maxNum}\")"
   ]
  },
  {
   "cell_type": "raw",
   "id": "ef1af58a",
   "metadata": {},
   "source": [
    "# Write a Python Program to Find HCF?\n",
    "def HCF(num1,num2):\n",
    "    \"\"\"This function is used to find HCF of given 2 no's\"\"\"  \n",
    "    if num1 > num2:\n",
    "        minNum = num2\n",
    "    else:\n",
    "        minNum = num1\n",
    "    for i in range(1,minNum+1):\n",
    "        if num1%i==0 and num2%i ==0:\n",
    "            hcf = i\n",
    "    return (f\"The HCF of {num1} and {num2} is {hcf}\")"
   ]
  },
  {
   "cell_type": "raw",
   "id": "43c67133",
   "metadata": {},
   "source": [
    "# Write a Python Program to Convert Decimal to Binary, Octal and Hexadecimal?\n",
    "def conv_num():\n",
    "    \"\"\"This function is used to convert given decimal number to binary, octal and hexadecimal\"\"\"\n",
    "    a = int(input(\"Enter the no. to be converted: \"))\n",
    "    b = bin(a)\n",
    "    c = oct(a)\n",
    "    d = hex(a)\n",
    "    return (f\"Binary is {b}, Octal is {c} and Hexadecimal is {d}\")"
   ]
  },
  {
   "cell_type": "raw",
   "id": "a1433001",
   "metadata": {},
   "source": [
    "# Write a Python Program To Find ASCII value of a character?\n",
    "def ascii():\n",
    "    \"\"\"This function is used to find ascii of given character\"\"\"\n",
    "    char = input(\"Enter the character for which ascii is needed:\")\n",
    "    d = {}\n",
    "    for i in char:\n",
    "        b = ord(i)\n",
    "        d[i] = b\n",
    "    return(d)"
   ]
  },
  {
   "cell_type": "raw",
   "id": "39497604",
   "metadata": {},
   "source": [
    "# Write a Python Program to Make a Simple Calculator with 4 basic mathematical operations?\n",
    "\n",
    "def add(num1,num2):\n",
    "    return num1+num2\n",
    "\n",
    "def subtract(num1,num2):\n",
    "    return num1-num2\n",
    "\n",
    "def multiply(num1,num2):\n",
    "    return num1*num2\n",
    "\n",
    "def divide(num1,num2):\n",
    "    return num1/num2\n",
    "\n",
    "print(\"Please select operation:- \\n\" \"1. Add \\n\" \"2. Subtract \\n\" \"3. Multiply \\n\" \"4. Divide\")\n",
    "\n",
    "select = int(input(\"Select operations from 1 ,2 ,3 ,4 :\"))\n",
    "\n",
    "if select in (1,2,3,4):\n",
    "    num1 = int(input(\"Enter the first number: \"))\n",
    "    num2 = int(input(\"Enter the second number: \"))\n",
    "\n",
    "if select == 1:\n",
    "    print(\"Addition of given number is\", add(num1,num2))\n",
    "elif select == 2:\n",
    "    print(\"Subtraction of given number is\", subtract(num1,num2))\n",
    "elif select == 3:\n",
    "    print(\"Multiplication of given number is\", multiply(num1,num2))\n",
    "elif select == 4:\n",
    "    print(\"Division of given number is\", divide(num1,num2)) \n",
    "else:\n",
    "    print(\"Invalid Input\")"
   ]
  }
 ],
 "metadata": {
  "kernelspec": {
   "display_name": "Python 3 (ipykernel)",
   "language": "python",
   "name": "python3"
  },
  "language_info": {
   "codemirror_mode": {
    "name": "ipython",
    "version": 3
   },
   "file_extension": ".py",
   "mimetype": "text/x-python",
   "name": "python",
   "nbconvert_exporter": "python",
   "pygments_lexer": "ipython3",
   "version": "3.9.7"
  }
 },
 "nbformat": 4,
 "nbformat_minor": 5
}
