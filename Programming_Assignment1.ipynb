{
 "cells": [
  {
   "cell_type": "raw",
   "id": "97b941c1",
   "metadata": {},
   "source": [
    "#1.Write a Python program to print \"Hello Python\"?\n",
    "\n",
    "print(\"Hello Python\")"
   ]
  },
  {
   "cell_type": "raw",
   "id": "29194140",
   "metadata": {},
   "source": [
    "#2.\tWrite a Python program to do arithmetical operations addition and division.?\n",
    "\n",
    "num1 = int(input(\"Enter the number 1: \"))\n",
    "num2 = int(input(\"Enter the number 2: \"))\n",
    "\n",
    "addition = num1+num2\n",
    "division = num1/num2\n",
    "\n",
    "print(\"Addition of two numbers is\",addition)\n",
    "print(\"Divison of two numbers is\", division)"
   ]
  },
  {
   "cell_type": "raw",
   "id": "07aa2bb3",
   "metadata": {},
   "source": [
    "#3.\tWrite a Python program to find the area of a triangle?\n",
    "\n",
    "base = float(input(\"Enter the base of the triangle: \"))\n",
    "height = float(input(\"Enter the height of the triangle: \"))\n",
    "\n",
    "area = 0.5 *base*height\n",
    "\n",
    "print(\"Area of triangle is\",area)"
   ]
  },
  {
   "cell_type": "raw",
   "id": "7969d4bf",
   "metadata": {},
   "source": [
    "#4. Write a Python program to swap two variables?\n",
    "\n",
    "x = int(input(\"Enter the number 1 to be swapped: \"))\n",
    "y = int(input(\"Enter the number 2 to be swapped: \"))\n",
    "temp = x\n",
    "x = y\n",
    "y = temp\n",
    "print(\"The value of number 1 after swapping is\",x)\n",
    "print(\"The value of number 2 after swapping is\",y)"
   ]
  },
  {
   "cell_type": "raw",
   "id": "0d81a052",
   "metadata": {},
   "source": [
    "#5.\tWrite a Python program to generate a random number?\n",
    "\"Generates random number between 0 to 100\"\n",
    "import random\n",
    "\n",
    "print(random.randint(0,100))"
   ]
  }
 ],
 "metadata": {
  "kernelspec": {
   "display_name": "Python 3 (ipykernel)",
   "language": "python",
   "name": "python3"
  },
  "language_info": {
   "codemirror_mode": {
    "name": "ipython",
    "version": 3
   },
   "file_extension": ".py",
   "mimetype": "text/x-python",
   "name": "python",
   "nbconvert_exporter": "python",
   "pygments_lexer": "ipython3",
   "version": "3.9.7"
  }
 },
 "nbformat": 4,
 "nbformat_minor": 5
}
