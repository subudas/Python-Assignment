{
 "cells": [
  {
   "cell_type": "raw",
   "id": "e6d89451",
   "metadata": {},
   "source": [
    "1. In what modes should the PdfFileReader() and PdfFileWriter() File objects will be opened?\n",
    "Ans:- PdfFileReader() should be opened in 'rb' mode (read binary) and\n",
    "      PdfFileWriter() should be opened in 'wb' mode (write binary)"
   ]
  },
  {
   "cell_type": "raw",
   "id": "9a405d2e",
   "metadata": {},
   "source": [
    "2.From a PdfFileReader object, how do you get a Page object for page 5?\n",
    "Ans:- Using the method getPage() and passing 4 as argument since page 0 is the first page"
   ]
  },
  {
   "cell_type": "raw",
   "id": "bfd5b78d",
   "metadata": {},
   "source": [
    "3. What PdfFileReader variable stores the number of pages in the PDF document?\n",
    "Ans:- The numPages variable stores an integer of the number of pages in the PDFfileReader object."
   ]
  },
  {
   "cell_type": "raw",
   "id": "bc03238e",
   "metadata": {},
   "source": [
    "4. If a PdfFileReader object’s PDF is encrypted with the password swordfish, what must you do\n",
    "before you can obtain Page objects from it?\n",
    "Ans:- Some PDF documents have an encryption feature so password is needed to open the pdf.\n",
    "      Using file.decrypt(password)\n",
    "      file = PdfFileReader('encrypted.pdf')\n",
    "      password = 'pass'\n",
    "      file.decrypt(password)"
   ]
  },
  {
   "cell_type": "raw",
   "id": "f6f8a7bf",
   "metadata": {},
   "source": [
    "5. What methods do you use to rotate a page?\n",
    "Ans:- rotateClockwise() and rotateCounterClockwise() method are used to rotate a page. Degree to rotate is passed as an integer argument."
   ]
  },
  {
   "cell_type": "raw",
   "id": "6ba724e5",
   "metadata": {},
   "source": [
    "6. What is the difference between a Run object and a Paragraph object?\n",
    "Ans:- Run object is a contiguous run of text with the same style.\n",
    "      Paragraph object is a list of one or more run objects"
   ]
  },
  {
   "cell_type": "raw",
   "id": "ccc70d93",
   "metadata": {},
   "source": [
    "7. How do you obtain a list of Paragraph objects for a Document object that’s stored in a variable\n",
    "named doc?\n",
    "    Ans:-  Using statement doc.paragraphs"
   ]
  },
  {
   "cell_type": "raw",
   "id": "29e69af4",
   "metadata": {},
   "source": [
    "8. What type of object has bold, underline, italic, strike, and outline variables?\n",
    "Ans:- Run object has bold, underline, italic,strike and outline variables."
   ]
  },
  {
   "cell_type": "raw",
   "id": "5c38cc7a",
   "metadata": {},
   "source": [
    "9. What is the difference between False, True, and None for the bold variable?\n",
    "Ans:- True makes the run object always bold\n",
    "      False disables bold attribute \n",
    "      None defaults to run bold style"
   ]
  },
  {
   "cell_type": "raw",
   "id": "e06b73fd",
   "metadata": {},
   "source": [
    "10. How do you create a Document object for a new Word document?\n",
    "Ans:- import docx\n",
    "      doc = docx.Document()"
   ]
  },
  {
   "cell_type": "raw",
   "id": "3769bff2",
   "metadata": {},
   "source": [
    "11. How do you add a paragraph with the text 'Hello, there!' to a Document object stored in a variable named doc?\n",
    "Ans:- import docx\n",
    "      doc = docx.document()\n",
    "      doc.add_paragraph('Hello,there!')"
   ]
  },
  {
   "cell_type": "raw",
   "id": "5aa15992",
   "metadata": {},
   "source": [
    "12. What integers represent the levels of headings available in Word documents?\n",
    "Ans:- 0,1,2,3 and 4. (Argument passed as per needed heading to add_heading())"
   ]
  }
 ],
 "metadata": {
  "kernelspec": {
   "display_name": "Python 3 (ipykernel)",
   "language": "python",
   "name": "python3"
  },
  "language_info": {
   "codemirror_mode": {
    "name": "ipython",
    "version": 3
   },
   "file_extension": ".py",
   "mimetype": "text/x-python",
   "name": "python",
   "nbconvert_exporter": "python",
   "pygments_lexer": "ipython3",
   "version": "3.9.7"
  }
 },
 "nbformat": 4,
 "nbformat_minor": 5
}
