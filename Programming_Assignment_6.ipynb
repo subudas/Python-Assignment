{
 "cells": [
  {
   "cell_type": "raw",
   "id": "9a86595c",
   "metadata": {},
   "source": [
    "#1. Write a Python Program to Display Fibonacci Sequence Using Recursion?\n",
    "def fibonacci_seq(n):\n",
    "    \"\"\"This function is used to find fibonacci seq. using recursive\"\"\"\n",
    "    if n<=1:\n",
    "        return n\n",
    "    else:\n",
    "        return fibonacci_seq(n-1)+fibonacci_seq(n-2)\n",
    "\n",
    "n = int(input(\"Enter the no. of terms greater than 0: \"))\n",
    "print(\"Fibonacci Sequence:\")\n",
    "for i in range(n):\n",
    "    print(fibonacci_seq(i))"
   ]
  },
  {
   "cell_type": "raw",
   "id": "e14113a5",
   "metadata": {},
   "source": [
    "#2. Write a Python Program to Find Factorial of Number Using Recursion?\n",
    "\n",
    "def factorial(n):\n",
    "    \"\"\"This function is used to find factorial using recursive\"\"\"\n",
    "    if n ==1:\n",
    "        return 1\n",
    "    else:\n",
    "        return n*factorial(n-1)\n",
    "\n",
    "num = int(input(\"Enter a number to find factorial : \"))\n",
    "if num <0:\n",
    "    print(\"Factorial of negative number doesnt exist\")\n",
    "elif num == 0:\n",
    "    print(\"Factorial of zero is 1\")\n",
    "else:\n",
    "    print(f\"Factorial of {num} is {factorial(num)}\")"
   ]
  },
  {
   "cell_type": "raw",
   "id": "b0055cbe",
   "metadata": {},
   "source": [
    "#3. Write a Python Program to calculate your Body Mass Index?\n",
    "\n",
    "def bmi():\n",
    "    \"\"\"This function is used to find body mass index\"\"\"\n",
    "    height = float(input(\"Enter your height in feet: \"))\n",
    "    weight = float(input(\"Enter your weight in kilo: \"))\n",
    "    bmi = weight/(height**2)\n",
    "    print(\"The BMI is =\",bmi)"
   ]
  },
  {
   "cell_type": "raw",
   "id": "4fd4df3d",
   "metadata": {},
   "source": [
    "#4.Write a Python Program to calculate the natural logarithm of any number?\n",
    "\n",
    "def nat_log():\n",
    "    \"\"\"This function is to calculate the natural logarithm of any number\"\"\"\n",
    "    import math\n",
    "    x = int(input(\"Enter a number: \"))\n",
    "    log = math.log(x)\n",
    "    print(f\"Log of {x} is {log}\")"
   ]
  },
  {
   "cell_type": "raw",
   "id": "ec076242",
   "metadata": {},
   "source": [
    "#5. Write a Python Program for cube sum of first n natural numbers?\n",
    "\n",
    "def sum_cube():\n",
    "    \"\"\"This function is to find sum of cube of first n natural numbers\"\"\"\n",
    "    sum = 0\n",
    "    n = int(input(\"Enter the number: \"))\n",
    "    for i in range (1,n+1):\n",
    "        sum = sum + (i**3)\n",
    "    print(f\"Sum of cube of {n} natural numbers is {sum}\")"
   ]
  }
 ],
 "metadata": {
  "kernelspec": {
   "display_name": "Python 3 (ipykernel)",
   "language": "python",
   "name": "python3"
  },
  "language_info": {
   "codemirror_mode": {
    "name": "ipython",
    "version": 3
   },
   "file_extension": ".py",
   "mimetype": "text/x-python",
   "name": "python",
   "nbconvert_exporter": "python",
   "pygments_lexer": "ipython3",
   "version": "3.9.7"
  }
 },
 "nbformat": 4,
 "nbformat_minor": 5
}
