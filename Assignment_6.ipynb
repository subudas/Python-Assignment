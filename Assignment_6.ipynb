{
 "cells": [
  {
   "cell_type": "raw",
   "id": "fd38ab05",
   "metadata": {},
   "source": [
    "1. What are escape characters, and how do you use them?\n",
    "Ans:- To insert characters that are illegal in string, we use a escape character.  We use them by using \\ followed by character we want to insert. (Eg:- \\n, \\t)"
   ]
  },
  {
   "cell_type": "raw",
   "id": "32ca1109",
   "metadata": {},
   "source": [
    "2. What do the escape characters n and t stand for?\n",
    "Ans:- \\n is used for new line and \\t is for tab"
   ]
  },
  {
   "cell_type": "raw",
   "id": "a0e4ba8f",
   "metadata": {},
   "source": [
    "3. What is the way to include backslash characters in a string?\n",
    "Ans:- The way to include backslash characters is using \"\\\\\" within the string literal"
   ]
  },
  {
   "cell_type": "raw",
   "id": "72902c67",
   "metadata": {},
   "source": [
    "4. The string \"Howl's Moving Castle\" is a correct value. Why isn't the single quote character in the word Howl's not escaped a problem?\n",
    "Ans:- As the string started and ended with double quotes so single quote string didn't cause problem."
   ]
  },
  {
   "cell_type": "raw",
   "id": "946d61ac",
   "metadata": {},
   "source": [
    "5. How do you write a string of newlines if you don't want to use the n character?\n",
    "Ans:- By enclosing the string in triple quotes \"\"\".\n",
    "Eg:- \n",
    "\n",
    "print(\"\"\"Hello Sam\n",
    "this is a good place\"\"\")\n",
    "\n",
    "O/P:-\n",
    "Hello Sam\n",
    "this is a good place"
   ]
  },
  {
   "cell_type": "raw",
   "id": "14f23c43",
   "metadata": {},
   "source": [
    "6. What are the values of the given expressions?\n",
    "'Hello, world!'[1]\n",
    "'Hello, world!'[0:5]\n",
    "'Hello, world!'[:5]\n",
    "'Hello, world!'[3:]\n",
    "\n",
    "Ans:- 'e', 'Hello', 'Hello', 'lo, world!'"
   ]
  },
  {
   "cell_type": "raw",
   "id": "faa446ea",
   "metadata": {},
   "source": [
    "7. What are the values of the following expressions?\n",
    "'Hello'.upper()\n",
    "'Hello'.upper().isupper()\n",
    "'Hello'.upper().lower()\n",
    "\n",
    "Ans:- 'HELLO', True, 'hello'"
   ]
  },
  {
   "cell_type": "raw",
   "id": "dda11a6b",
   "metadata": {},
   "source": [
    "8. What are the values of the following expressions?\n",
    "'Remember, remember, the fifth of July.'.split()\n",
    "'-'.join('There can only one.'.split())\n",
    "\n",
    "Ans:-  \n",
    "\n",
    "['Remember,', 'remember,', 'the', 'fifth', 'of', 'July.']\n",
    "\n",
    "'There-can-only-one.'"
   ]
  },
  {
   "cell_type": "raw",
   "id": "05ab1e8e",
   "metadata": {},
   "source": [
    "9. What are the methods for right-justifying, left-justifying, and centering a string?\n",
    "\n",
    "Ans:- rjust(), ljust() and center()\n"
   ]
  },
  {
   "cell_type": "raw",
   "id": "454c4169",
   "metadata": {},
   "source": [
    "10. What is the best way to remove whitespace characters from the start or end?\n",
    "\n",
    "Ans:- lstrip() to be used for removing whitespace from left end of string and rstrip() to be used for removing whitespace from right end of string."
   ]
  }
 ],
 "metadata": {
  "kernelspec": {
   "display_name": "Python 3 (ipykernel)",
   "language": "python",
   "name": "python3"
  },
  "language_info": {
   "codemirror_mode": {
    "name": "ipython",
    "version": 3
   },
   "file_extension": ".py",
   "mimetype": "text/x-python",
   "name": "python",
   "nbconvert_exporter": "python",
   "pygments_lexer": "ipython3",
   "version": "3.9.7"
  }
 },
 "nbformat": 4,
 "nbformat_minor": 5
}
