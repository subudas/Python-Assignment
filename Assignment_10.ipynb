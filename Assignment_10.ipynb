{
 "cells": [
  {
   "cell_type": "raw",
   "id": "d693ff48",
   "metadata": {},
   "source": [
    "1. How do you distinguish between shutil.copy() and shutil.copytree()?\n",
    "Ans:- shutil.copy() copies file from one folder to the other folder (i.e. copies from source folder to destination folder)\n",
    "      shutil.copytree() creates a new directory and copies all files present in source folder."
   ]
  },
  {
   "cell_type": "raw",
   "id": "9eb4706a",
   "metadata": {},
   "source": [
    "2. What function is used to rename files??\n",
    "Ans:- shutil.move() is used to rename files."
   ]
  },
  {
   "cell_type": "raw",
   "id": "18821c7a",
   "metadata": {},
   "source": [
    "3. What is the difference between the delete functions in the send2trash and shutil modules?\n",
    "Ans:- send2trash function will move a file or folder to the recycle bin, while shutil functions will permanently delete files and folders."
   ]
  },
  {
   "cell_type": "raw",
   "id": "c77c0cc6",
   "metadata": {},
   "source": [
    "4.ZipFile objects have a close() method just like File objects’ close() method. What ZipFile method is equivalent to File objects’ open() method?\n",
    "Ans:- zipfile.ZipFile() function is equivalent to open() function."
   ]
  },
  {
   "cell_type": "raw",
   "id": "783fdfba",
   "metadata": {},
   "source": [
    "5. Create a programme that searches a folder tree for files with a certain file extension (such as .pdf or .jpg). Copy these files from whatever location they are in to a new folder.\n",
    "Ans:- \n",
    "def File_move(file_extension, source_folder, destination_folder):\n",
    "    \"\"\"This function copies all files of a particular extension in a folder tree to destination folder\n",
    "   Function arguments:\n",
    "   1. file_extension: file extension to search for\n",
    "   2. source_folder: Source folder (root dir) tree to search for given file_extension.\n",
    "   3. destination_folder: Folder to copy all the relevant files.\n",
    "\"\"\"\n",
    "    import os\n",
    "    import shutil\n",
    "    try:\n",
    "        for folder, subfolders, filenames in os.walk(source_folder):\n",
    "            for filename in filenames:\n",
    "                if filename.endswith(file_extension):\n",
    "                    source = os.path.join(folder,filename)\n",
    "                    destination = os.path.join(destination_folder,filename)\n",
    "                    shutil.move(source,destination)\n",
    "    except Exception as e:\n",
    "        print(\"Error: \", e)\n",
    " \n",
    " #The file can be moved by mentioning the below function for pdf:-\n",
    " File_move(\"pdf\",r\"C:\\Users\\MSI\\Desktop\\text1\", r\"C:\\Users\\MSI\\Desktop\\sample\")"
   ]
  }
 ],
 "metadata": {
  "kernelspec": {
   "display_name": "Python 3 (ipykernel)",
   "language": "python",
   "name": "python3"
  },
  "language_info": {
   "codemirror_mode": {
    "name": "ipython",
    "version": 3
   },
   "file_extension": ".py",
   "mimetype": "text/x-python",
   "name": "python",
   "nbconvert_exporter": "python",
   "pygments_lexer": "ipython3",
   "version": "3.9.7"
  }
 },
 "nbformat": 4,
 "nbformat_minor": 5
}
