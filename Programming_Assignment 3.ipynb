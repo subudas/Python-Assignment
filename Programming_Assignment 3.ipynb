{
 "cells": [
  {
   "cell_type": "raw",
   "id": "c33a4cda",
   "metadata": {},
   "source": [
    "1. Write a Python Program to Check if a Number is Positive, Negative or Zero?\n",
    "\n",
    "Ans:- \n",
    "\n",
    "a = int(input(\"Enter the number to be checked if it is positive, negative or zero: \"))\n",
    "\n",
    "if a> 0:\n",
    "    print(\"Given number\",a,\" is positive\")\n",
    "elif a<0:\n",
    "    print(\"Given number\",a,\"is negative\")\n",
    "else:\n",
    "    print(\"Given number\",a,\"is equal to zero\")"
   ]
  },
  {
   "cell_type": "raw",
   "id": "356eacad",
   "metadata": {},
   "source": [
    "2. Write a Python Program to Check if a Number is Odd or Even?\n",
    "\n",
    "Ans:- \n",
    "\n",
    "a = int(input(\"Enter the no. to be checked if it is odd or even: \"))\n",
    "\n",
    "if a%2 == 0:\n",
    "    print(\"Given number\",a,\"is even\")\n",
    "else:\n",
    "    print(\"Given number\",a,\"is odd\")"
   ]
  },
  {
   "cell_type": "raw",
   "id": "e15234ef",
   "metadata": {},
   "source": [
    "3. Write a Python Program to Check Leap Year?\n",
    "\n",
    "Ans:-\n",
    "\n",
    "a = int(input(\"Enter the year to be checked for leap year: \"))\n",
    "\n",
    "if (a%4 ==0 and a%100 !=0) or (a%400 ==0):\n",
    "    print(a,\"is leap year\")\n",
    "else:\n",
    "    print(a,\"is not leap year\")"
   ]
  },
  {
   "cell_type": "raw",
   "id": "7a597200",
   "metadata": {},
   "source": [
    "4. Write a Python Program to Check Prime Number?\n",
    "\n",
    "Ans:- \n",
    "\n",
    "n = int(input(\"Enter the no. to be checked if it is prime or not: \"))\n",
    "if n>1:\n",
    "    num = 2\n",
    "    flag = False\n",
    "    while num<n:\n",
    "        if n%num == 0:\n",
    "            flag = True\n",
    "            break\n",
    "        num = num+1\n",
    "    if flag:\n",
    "        print(f\"Given no {n} is not prime\")\n",
    "    else:\n",
    "        print(f\"Given no {n} is prime\")"
   ]
  },
  {
   "cell_type": "raw",
   "id": "360dd23e",
   "metadata": {},
   "source": [
    "5. Write a Python Program to Print all Prime Numbers in an Interval of 1-10000?\n",
    "\n",
    "Ans:-\n",
    "\n",
    "l = []\n",
    "for i in range(1,10001):\n",
    "    num = 2\n",
    "    flag = False\n",
    "    while num<i:\n",
    "        if i%num == 0:\n",
    "            flag = True\n",
    "            break\n",
    "        num = num+1\n",
    "\n",
    "    if not flag:\n",
    "        l.append(i)\n",
    "print(\"Given below a list of prime no.s between 1 to 10000:-\")\n",
    "print(l)"
   ]
  }
 ],
 "metadata": {
  "kernelspec": {
   "display_name": "Python 3 (ipykernel)",
   "language": "python",
   "name": "python3"
  },
  "language_info": {
   "codemirror_mode": {
    "name": "ipython",
    "version": 3
   },
   "file_extension": ".py",
   "mimetype": "text/x-python",
   "name": "python",
   "nbconvert_exporter": "python",
   "pygments_lexer": "ipython3",
   "version": "3.9.7"
  }
 },
 "nbformat": 4,
 "nbformat_minor": 5
}
