{
 "cells": [
  {
   "cell_type": "raw",
   "id": "d12a1731",
   "metadata": {},
   "source": [
    "#1. Write a Python Program to Find the Factorial of a Number?\n",
    "\n",
    "#Ans:-\n",
    "n = int(input(\"Enter the no. for which factorial is needed:-\"))\n",
    "factorial = 1\n",
    "for i in range (1,n+1):\n",
    "    factorial = factorial * i\n",
    "print(f\"The factorial of given no {n} is {factorial}\")"
   ]
  },
  {
   "cell_type": "raw",
   "id": "f4821dca",
   "metadata": {},
   "source": [
    "#2. Write a Python Program to Display the multiplication Table?\n",
    "\n",
    "#Ans:- \n",
    "n = int(input(\"Enter the no. for which multiplication table is needed:-\"))\n",
    "for i in range (1,11):\n",
    "    mul = n * i\n",
    "    print(n,\"x\",i,'=',mul)"
   ]
  },
  {
   "cell_type": "raw",
   "id": "75a9acf1",
   "metadata": {},
   "source": [
    "#3. Write a Python Program to Print the Fibonacci sequence?\n",
    "\n",
    "#Ans:-\n",
    "a = 0\n",
    "b = 1\n",
    "n = int(input(\"How many terms?:\"))\n",
    "\n",
    "if n<=0:\n",
    "    print(\"Enter a positive number\")\n",
    "elif n==1:\n",
    "    print(\"Fibonacci sequence:\",a)\n",
    "else:\n",
    "    print(\"Fibonacci sequence:\")\n",
    "    print(a)\n",
    "    print(b)\n",
    "    for i in range (2,n):\n",
    "        next_number = a+b\n",
    "        a = b\n",
    "        b = next_number\n",
    "        print(next_number)"
   ]
  },
  {
   "cell_type": "raw",
   "id": "ae1e5126",
   "metadata": {},
   "source": [
    "#4. Write a Python Program to Check Armstrong Number?\n",
    "\n",
    "#Ans:- \n",
    "\n",
    "n = int(input(\"Enter the number to be checked\\n\"))\n",
    "sum = 0\n",
    "order = len(str(n))\n",
    "copy_n = n\n",
    "while (n>0):\n",
    "    digit = n%10\n",
    "    sum += digit **order\n",
    "    n= n//10\n",
    "    \n",
    "if(sum==copy_n):\n",
    "    print(f\"{copy_n} is an armstrong number\")\n",
    "else:\n",
    "    print(f\"{copy_n} is not an armstrong number\")"
   ]
  },
  {
   "cell_type": "raw",
   "id": "05127c77",
   "metadata": {},
   "source": [
    "#5. Write a Python Program to Find Armstrong Number in an Interval?\n",
    "\n",
    "#Ans:-\n",
    "\n",
    "lower = int(input(\"Enter the lower range:\"))\n",
    "upper = int(input(\"Enter the upper range:\"))\n",
    "\n",
    "print(\"Armstrong numbers for the given interval are as follows:\")\n",
    "for n in range(lower,upper+1):\n",
    "    sum = 0\n",
    "    order = len(str(n))\n",
    "    copy_n = n\n",
    "    while (n>0):\n",
    "        digit = n%10\n",
    "        sum += digit **order\n",
    "        n= n//10\n",
    "    if(sum==copy_n):\n",
    "        print(copy_n)"
   ]
  },
  {
   "cell_type": "raw",
   "id": "99194ccb",
   "metadata": {},
   "source": [
    "#6. Write a Python Program to Find the Sum of Natural Numbers?\n",
    "\n",
    "#Ans:-\n",
    "n = int(input(\"Enter the number:\"))\n",
    "\n",
    "if n<0:\n",
    "    print(\"Enter a positive number:\")\n",
    "else:\n",
    "    sum = 0\n",
    "    for i in range(1,n+1):\n",
    "        sum = sum+i\n",
    "    print(\"The sum is\",sum)"
   ]
  }
 ],
 "metadata": {
  "kernelspec": {
   "display_name": "Python 3 (ipykernel)",
   "language": "python",
   "name": "python3"
  },
  "language_info": {
   "codemirror_mode": {
    "name": "ipython",
    "version": 3
   },
   "file_extension": ".py",
   "mimetype": "text/x-python",
   "name": "python",
   "nbconvert_exporter": "python",
   "pygments_lexer": "ipython3",
   "version": "3.9.7"
  }
 },
 "nbformat": 4,
 "nbformat_minor": 5
}
