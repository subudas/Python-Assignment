{
 "cells": [
  {
   "cell_type": "raw",
   "id": "3c7a744e",
   "metadata": {},
   "source": [
    "1. Create an assert statement that throws an AssertionError if the variable spam is a negative\n",
    "integer.\n",
    "Ans:-\n",
    "spam = -10\n",
    "assert spam >= 0, \"Number is negative\""
   ]
  },
  {
   "cell_type": "raw",
   "id": "f92105e8",
   "metadata": {},
   "source": [
    "2. Write an assert statement that triggers an AssertionError if the variables eggs and bacon contain strings that are the same as each other, even if their cases are different (that is, 'hello' and 'hello' are considered the same, and 'goodbye' and 'GOODbye' are also considered the same).\n",
    "Ans:-\n",
    "eggs = 'goodbye'\n",
    "bacon = 'GOODbye'\n",
    "assert eggs.lower() != bacon.lower(), \"Variable eggs and bacon contains string that are same as each other\""
   ]
  },
  {
   "cell_type": "raw",
   "id": "be71fc07",
   "metadata": {},
   "source": [
    "3. Create an assert statement that throws an AssertionError every time.\n",
    "Ans:-\n",
    "assert False, \"Always active assertion Error\""
   ]
  },
  {
   "cell_type": "raw",
   "id": "ce3ddeef",
   "metadata": {},
   "source": [
    "4. What are the two lines that must be present in your software in order to call logging.debug()?\n",
    "Ans:-\n",
    "\n",
    "import logging\n",
    "logging.basicConfig(level = logging.DEBUG, format = '%(asctime)s, -%(levelname)s, -%(message)s')"
   ]
  },
  {
   "cell_type": "raw",
   "id": "b0173e7e",
   "metadata": {},
   "source": [
    "5. What are the two lines that your program must have in order to have logging.debug() send a\n",
    "logging message to a file named programLog.txt?\n",
    "Ans:-\n",
    "\n",
    "import logging\n",
    "logging.basicConfig(filename = 'programLog.txt', level = logging.DEBUG, format = '%(asctime)s, -%(levelname)s, -%(message)s')"
   ]
  },
  {
   "cell_type": "raw",
   "id": "94994b3c",
   "metadata": {},
   "source": [
    "6. What are the five levels of logging?\n",
    "Ans:-\n",
    "\n",
    "Five levels of logging are:\n",
    "1. DEBUG\n",
    "2. INFO\n",
    "3. WARNING\n",
    "4. ERROR\n",
    "5. CRITICAL"
   ]
  },
  {
   "cell_type": "raw",
   "id": "9997e709",
   "metadata": {},
   "source": [
    "7. What line of code would you add to your software to disable all logging messages?\n",
    "Ans:-\n",
    "import logging\n",
    "logging.disable(logging.CRITICAL)"
   ]
  },
  {
   "cell_type": "raw",
   "id": "6f554f3a",
   "metadata": {},
   "source": [
    "8.Why is using logging messages better than using print() to display the same message?\n",
    "Ans:- Logging messages is better than using print() because we can track events in a code or debugging.\n",
    "      Logging provides time stamp of the event occured which can be used for debugging and for \n",
    "      information.\n",
    "      Also we can create a log file to track sequence of events."
   ]
  },
  {
   "cell_type": "raw",
   "id": "de095cb4",
   "metadata": {},
   "source": [
    "9. What are the differences between the Step Over, Step In, and Step Out buttons in the debugger?\n",
    "Ans:- \n",
    "Step into: Executes the current statement and then stops at the next statement. If the current statement is a function, then the debugger steps into that function otherwise it stops at the next statement.\n",
    "Step over: Executes the current statemenet and then stops at the next statement. If the current statement is a function, then the debugger executes the whole function and it stops at the next statement after the function call.\n",
    "Step Out: Steps out of the current function and up one level if function is nested."
   ]
  },
  {
   "cell_type": "raw",
   "id": "29a05796",
   "metadata": {},
   "source": [
    "10.After you click Continue, when will the debugger stop ?\n",
    "Ans:- After we click Continue, the debugger will stop when it has reached the end of the program or line with breakpoint"
   ]
  },
  {
   "cell_type": "raw",
   "id": "e859334d",
   "metadata": {},
   "source": [
    "11. What is the concept of a breakpoint?\n",
    "Ans:- Breakpoint is a setting on a line of code that causes the debugger to pause when the program executor reaches the line (where the breakpoint is set)"
   ]
  }
 ],
 "metadata": {
  "kernelspec": {
   "display_name": "Python 3 (ipykernel)",
   "language": "python",
   "name": "python3"
  },
  "language_info": {
   "codemirror_mode": {
    "name": "ipython",
    "version": 3
   },
   "file_extension": ".py",
   "mimetype": "text/x-python",
   "name": "python",
   "nbconvert_exporter": "python",
   "pygments_lexer": "ipython3",
   "version": "3.9.7"
  }
 },
 "nbformat": 4,
 "nbformat_minor": 5
}
