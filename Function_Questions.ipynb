{
 "cells": [
  {
   "cell_type": "raw",
   "id": "537de7af",
   "metadata": {},
   "source": [
    "#Question 1:-\n",
    "\n",
    "def length(a):\n",
    "    \"\"\"This function is used to calculate the length of the string\"\"\"\n",
    "    num = 0\n",
    "    for i in a:\n",
    "        num = num+1\n",
    "    return num"
   ]
  },
  {
   "cell_type": "raw",
   "id": "16d35ef7",
   "metadata": {},
   "source": [
    "#Question 2:-\n",
    "\n",
    "def prim_index(a):\n",
    "    \"\"\"This function used to find index of given element\"\"\"\n",
    "    for i in range(len(a)):\n",
    "        print(\"The element at index\",i,\"is\",a[i])"
   ]
  },
  {
   "cell_type": "raw",
   "id": "42ee896d",
   "metadata": {},
   "source": [
    "#Question 3:-\n",
    "\n",
    "def dict_values(d):\n",
    "    \"\"\"This function is used to list all values in dictionary for 2 times nesting\"\"\"\n",
    "    k = []\n",
    "    for i in d.values():\n",
    "        if type(i)!= dict:\n",
    "            k.append(i)\n",
    "        elif type(i)== dict:\n",
    "            for j in i.values():\n",
    "                if type(j)!= dict:\n",
    "                    k.append(j)\n",
    "                elif type(j)== dict:\n",
    "                    for s in j.values():\n",
    "                        if type(s)!= dict:\n",
    "                            k.append(s)\n",
    "    return k"
   ]
  },
  {
   "cell_type": "raw",
   "id": "26905f10",
   "metadata": {},
   "source": [
    "#Question 4:-\n",
    "\n",
    "def square(a):\n",
    "    \"\"\"This function is used to find square of a number\"\"\"\n",
    "    return a*a\n",
    "\n",
    "def sum_square(a,b):\n",
    "    \"\"\"This function is used to find sum of square of given numbers\"\"\"\n",
    "    return square(a)+square(b)"
   ]
  },
  {
   "cell_type": "raw",
   "id": "48f69139",
   "metadata": {},
   "source": [
    "#Question 7:-\n",
    "\n",
    "def list_dir():\n",
    "    \"\"\"This function is used to find list of files in a given directory\"\"\"\n",
    "    a = input(\"Enter the directory for which list of file is needed\")\n",
    "    import os\n",
    "    return os.listdir(a)"
   ]
  },
  {
   "cell_type": "raw",
   "id": "006a002a",
   "metadata": {},
   "source": [
    "#Question 8:-\n",
    "\n",
    "def getsystem_info():\n",
    "    \"\"\"This function is used to show system configuration information\"\"\"\n",
    "    import platform\n",
    "    import psutil\n",
    "    info = {}\n",
    "    info[\"System\"] = platform.system()\n",
    "    info[\"Release\"] = platform.release()\n",
    "    info[\"Architecture\"] = platform.machine()\n",
    "    info[\"Ram\"] = str(round(psutil.virtual_memory().total /(1024**3)))+\"GB\"\n",
    "    info[\"Hard disk size\"] = str(round(psutil.disk_usage('/').total /(1024**3)))+\"GB\"\n",
    "    return info"
   ]
  },
  {
   "cell_type": "raw",
   "id": "bac3e980",
   "metadata": {},
   "source": [
    "#Question 9:-\n",
    "    \n",
    "def date_time():\n",
    "    \"\"\"This function used to find current date and time\"\"\"\n",
    "    import datetime as dt\n",
    "    now = dt.datetime.now()\n",
    "    date = now.strftime(\"%A, %B %d,%Y\")\n",
    "    time = (now.strftime(\"%H:%M:%S\"))\n",
    "    return \"Current date: \" +date, \"Current time: \" +time   "
   ]
  },
  {
   "cell_type": "raw",
   "id": "7d4e28d8",
   "metadata": {},
   "source": [
    "#Question 10:-\n",
    "\n",
    "def image_open():\n",
    "    '''This function used to open image file from a desired location'''\n",
    "    from PIL import Image\n",
    "    input_path = input('''Enter the path and file for image to be opened as \"C:\\Python\\sample.jpg\" ''')\n",
    "    im = Image.open(input_path) \n",
    "    return im.show()"
   ]
  },
  {
   "cell_type": "raw",
   "id": "27894fe6",
   "metadata": {},
   "source": [
    "#Question 12:-\n",
    "\n",
    "def file_move():\n",
    "    \"\"\"This function is used to move a file from a given location to desired location\"\"\"\n",
    "    import os\n",
    "    import shutil\n",
    "    src_path = input(r\"Enter the source path of folder as C:\\Downloads\\file.txt\")\n",
    "    dst_path = input(r\"Enter the destination path of folder as C:\\Downloads\")\n",
    "    return shutil.move(src_path,dst_path)"
   ]
  },
  {
   "cell_type": "raw",
   "id": "2bbc05be",
   "metadata": {},
   "source": [
    "#Question 13:-\n",
    "\n",
    "def shutdown_pc():\n",
    "    \"\"\"This function will shutdown your computer\"\"\"\n",
    "    import os\n",
    "    shutdown = input(\"Do you wish to shutdown your computer ? (yes / no): \").lower()\n",
    "    if shutdown == 'yes':\n",
    "        return os.system(\"shutdown /s /t 10\")\n",
    "    else:\n",
    "        return (\"Exiting the program\")"
   ]
  },
  {
   "cell_type": "raw",
   "id": "f2380ac8",
   "metadata": {},
   "source": [
    "#Question 18:-\n",
    "\n",
    "def word_file():\n",
    "    \"\"\"This function will filter only word files and give them as a list\"\"\"\n",
    "    import os\n",
    "    a = []\n",
    "    path = input(\"Enter the path:-\")\n",
    "    for file in os.listdir(path):\n",
    "        if file.endswith(\".doc\") or file.endswith(\".docx\"):\n",
    "            a.append(file)\n",
    "    return a"
   ]
  },
  {
   "cell_type": "raw",
   "id": "15b9b4d5",
   "metadata": {},
   "source": [
    "#Question 19:-\n",
    "\n",
    "def ip_address():\n",
    "    \"\"\"This function is used to print ip address of your system\"\"\"\n",
    "    import socket\n",
    "    hostname = socket.gethostname()\n",
    "    ipaddr = socket.gethostbyname(hostname)\n",
    "    print(\"Your Computer Name is:\" + hostname)    \n",
    "    print(\"Your Computer IP Address is:\" + ipaddr)"
   ]
  }
 ],
 "metadata": {
  "kernelspec": {
   "display_name": "Python 3 (ipykernel)",
   "language": "python",
   "name": "python3"
  },
  "language_info": {
   "codemirror_mode": {
    "name": "ipython",
    "version": 3
   },
   "file_extension": ".py",
   "mimetype": "text/x-python",
   "name": "python",
   "nbconvert_exporter": "python",
   "pygments_lexer": "ipython3",
   "version": "3.9.7"
  }
 },
 "nbformat": 4,
 "nbformat_minor": 5
}
