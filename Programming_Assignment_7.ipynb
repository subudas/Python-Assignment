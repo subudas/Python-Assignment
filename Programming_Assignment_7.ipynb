{
 "cells": [
  {
   "cell_type": "raw",
   "id": "b7b4c051",
   "metadata": {},
   "source": [
    "#1. Write a Python Program to find sum of array?\n",
    "\n",
    "array = [2,3,4,5,7,8]\n",
    "sum = 0\n",
    "for i in array:\n",
    "    sum = sum+i\n",
    "print(f\"Sum of array is {sum}\")"
   ]
  },
  {
   "cell_type": "raw",
   "id": "9a9b5449",
   "metadata": {},
   "source": [
    "#2. Write a Python Program to find largest element in an array?\n",
    "\n",
    "array1 = [10,2,13,24,55,64,32,45,21,5]\n",
    "print(f\"Largest element in given {array1} is {max(array1)}\")"
   ]
  },
  {
   "cell_type": "raw",
   "id": "3c67e88f",
   "metadata": {},
   "source": [
    "#3. Write a Python Program for array rotation?\n",
    "a = []\n",
    "\n",
    "# Define the size of array from user\n",
    "size = int(input(\"Enter the size of the array: \"))\n",
    "\n",
    "# Creating a array taken from a user\n",
    "for elements in range(size):\n",
    "    val = int(input(f\"Enter the element {elements+1}:\"))\n",
    "    a.append(val)\n",
    "print(f\"Entered array is {a}\")\n",
    "\n",
    "# Define shift from user (right/left)\n",
    "shift = input(\"Enter the shift required:\").lower()\n",
    "\n",
    "# Enter no. of rotation required\n",
    "n = int(input(\"Enter the no. of rotation required: \"))\n",
    "\n",
    "# Left shift\n",
    "if shift == 'left':\n",
    "    for count in range(n):\n",
    "        x = a[0]\n",
    "        for i in range(1,size):\n",
    "            a[i-1] = a[i]\n",
    "        a[size-1] = x\n",
    "# Right shift\n",
    "elif shift == 'right':\n",
    "    for count1 in range(n):\n",
    "        y = a[size-1]\n",
    "        for j in range(size-2,-1,-1):\n",
    "            a[j+1] = a[j]\n",
    "        a[0] = y\n",
    "print(f\"Modified array is {a}\")"
   ]
  },
  {
   "cell_type": "raw",
   "id": "220df9eb",
   "metadata": {},
   "source": [
    "#4. Write a Python Program to Split the array and add the first part to the end?\n",
    "a = []\n",
    "# Define the size of array from user\n",
    "size = int(input(\"Enter the size of the array: \"))\n",
    "\n",
    "# Creating a array taken from a user\n",
    "for elements in range(size):\n",
    "    val = int(input(f\"Enter the element {elements+1}:\"))\n",
    "    a.append(val)\n",
    "print(f\"Entered array is {a}\")\n",
    "\n",
    "# Enter no. of split required\n",
    "n = int(input(\"Enter the no. of elements to split: \"))\n",
    "\n",
    "for count in range(n):\n",
    "    x = a[0]\n",
    "    for i in range(1,size):\n",
    "        a[i-1] = a[i]\n",
    "    a[size-1] = x\n",
    "\n",
    "print(f\"Updated array as per split of {n} elements is {a}\")"
   ]
  },
  {
   "cell_type": "raw",
   "id": "c8fa8eaf",
   "metadata": {},
   "source": [
    "#5. Write a Python Program to check if given array is Monotonic?\n",
    "def monotonic(array):\n",
    "    \"\"\"This function is used to find if array is monotonic or not\"\"\"\n",
    "    decreasing = False\n",
    "    if (array[0] > array[1]):\n",
    "        decreasing = True\n",
    "    for i in range(len(array)-1):\n",
    "        if(array[i]< array[i+1] and decreasing or array[i] >array[i+1] and not decreasing):\n",
    "            return False\n",
    "    return True"
   ]
  }
 ],
 "metadata": {
  "kernelspec": {
   "display_name": "Python 3 (ipykernel)",
   "language": "python",
   "name": "python3"
  },
  "language_info": {
   "codemirror_mode": {
    "name": "ipython",
    "version": 3
   },
   "file_extension": ".py",
   "mimetype": "text/x-python",
   "name": "python",
   "nbconvert_exporter": "python",
   "pygments_lexer": "ipython3",
   "version": "3.9.7"
  }
 },
 "nbformat": 4,
 "nbformat_minor": 5
}
