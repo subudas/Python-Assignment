{
 "cells": [
  {
   "cell_type": "raw",
   "id": "c34698c6",
   "metadata": {},
   "source": [
    "1. What does an empty dictionary's code look like?\n",
    "Ans:- {}"
   ]
  },
  {
   "cell_type": "raw",
   "id": "d3712567",
   "metadata": {},
   "source": [
    "2. What is the value of a dictionary value with the key 'foo' and the value 42?\n",
    "Ans:- Value is 42 {'foo':42}"
   ]
  },
  {
   "cell_type": "raw",
   "id": "fad9e34d",
   "metadata": {},
   "source": [
    "3. What is the most significant distinction between a dictionary and a list?\n",
    "Ans:- List is ordered sequence of elements and dictionary are unodered sets. \n",
    "Elements are stored in list and whereas in dictionary we use key value pair to store."
   ]
  },
  {
   "cell_type": "raw",
   "id": "3c17231f",
   "metadata": {},
   "source": [
    "4. What happens if you try to access spam['foo'] if spam is {'bar': 100}?\n",
    "Ans:- We will get Key Error"
   ]
  },
  {
   "cell_type": "raw",
   "id": "e422c5dd",
   "metadata": {},
   "source": [
    "5. If a dictionary is stored in spam, what is the difference between the expressions 'cat' in spam and 'cat' in spam.keys()?\n",
    "Ans:- There is no difference between this as both returns True. (Both refers to key 'cat' stored in spam)"
   ]
  },
  {
   "cell_type": "raw",
   "id": "1075f84c",
   "metadata": {},
   "source": [
    "6. If a dictionary is stored in spam, what is the difference between the expressions 'cat' in spam and 'cat' in spam.values()?\n",
    "Ans:- 'cat' in spam checks for key 'cat' and 'cat' in spam.values check for value 'cat' stored in any of the key in spam"
   ]
  },
  {
   "cell_type": "raw",
   "id": "0f3825dc",
   "metadata": {},
   "source": [
    "7. What is a shortcut for the following code?\n",
    "if 'color' not in spam:\n",
    "spam['color'] = 'black'\n",
    "\n",
    "Ans:- We need to write shortcut as spam.setdefault('color','black')"
   ]
  },
  {
   "cell_type": "raw",
   "id": "1313d2cc",
   "metadata": {},
   "source": [
    "8. How do you \"pretty print\" dictionary values using which module and function?\n",
    "Ans:- \n",
    "Module:- import pprint\n",
    "Function:- pprint.pprint(spam)\n",
    "\n",
    "pprint prints data type in a more readable way \n",
    "\n",
    "eg:-\n",
    "\n",
    "spam = {'bar': 100, 'color': 'orange', 'colors': 'black', 'aks': 'sam'}\n",
    "\n",
    "After using pprint module key with 'aks' appears first\n",
    "\n",
    "pprint.pprint(spam)\n",
    "\n",
    "{'aks': 'sam', 'bar': 100, 'color': 'orange', 'colors': 'black'}"
   ]
  }
 ],
 "metadata": {
  "kernelspec": {
   "display_name": "Python 3 (ipykernel)",
   "language": "python",
   "name": "python3"
  },
  "language_info": {
   "codemirror_mode": {
    "name": "ipython",
    "version": 3
   },
   "file_extension": ".py",
   "mimetype": "text/x-python",
   "name": "python",
   "nbconvert_exporter": "python",
   "pygments_lexer": "ipython3",
   "version": "3.9.7"
  }
 },
 "nbformat": 4,
 "nbformat_minor": 5
}
