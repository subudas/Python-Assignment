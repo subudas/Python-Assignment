{
 "cells": [
  {
   "cell_type": "raw",
   "id": "3e0cb0dc",
   "metadata": {},
   "source": [
    "1. To what does a relative path refer?\n",
    "Ans:- relative path refers to current work directory."
   ]
  },
  {
   "cell_type": "raw",
   "id": "3d69e6e8",
   "metadata": {},
   "source": [
    "2. What does an absolute path start with your operating system?\n",
    "Ans:- Absolute path starts with root directory where the file is located."
   ]
  },
  {
   "cell_type": "raw",
   "id": "9715e49e",
   "metadata": {},
   "source": [
    "3. What do the functions os.getcwd() and os.chdir() do?\n",
    "Ans:- os.getcwd() function is used to get current working directory and os.chdir() function is used to change current working directory."
   ]
  },
  {
   "cell_type": "raw",
   "id": "bc89ab43",
   "metadata": {},
   "source": [
    "4. What are the . and .. folders?\n",
    "Ans:- The . is current folder and .. is parent folder."
   ]
  },
  {
   "cell_type": "raw",
   "id": "c24b24e4",
   "metadata": {},
   "source": [
    "5.In C:\\bacon\\eggs\\spam.txt, which part is the dir name, and which part is the base name?\n",
    "Ans:- C:\\bacon\\eggs is the dir name and spam.txt is the base name"
   ]
  },
  {
   "cell_type": "raw",
   "id": "92f50916",
   "metadata": {},
   "source": [
    "6.What are the three “mode” arguments that can be passed to the open() function?\n",
    "Ans:- The three mode are 'r' for open for reading, 'w' open for writing and 'a' open for writing, appending to the end of the file if it exists."
   ]
  },
  {
   "cell_type": "raw",
   "id": "f37c020b",
   "metadata": {},
   "source": [
    "7. What happens if an existing file is opened in write mode?\n",
    "Ans:- If an existing file is opened in write mode its contents are discarded and the file is treated as a new empty file."
   ]
  },
  {
   "cell_type": "raw",
   "id": "dc6571f1",
   "metadata": {},
   "source": [
    "8. How do you tell the difference between read() and readlines()?\n",
    "Ans:- read() method returns the file's entire content as a single string value.\n",
    "      readlines() method returns a list of strings, where each line is a string element in a list."
   ]
  },
  {
   "cell_type": "raw",
   "id": "564ae509",
   "metadata": {},
   "source": [
    "9. What data structure does a shelf value resemble?\n",
    "Ans:- Shelf value resemble dictionary. (Need to import shelve module)."
   ]
  }
 ],
 "metadata": {
  "kernelspec": {
   "display_name": "Python 3 (ipykernel)",
   "language": "python",
   "name": "python3"
  },
  "language_info": {
   "codemirror_mode": {
    "name": "ipython",
    "version": 3
   },
   "file_extension": ".py",
   "mimetype": "text/x-python",
   "name": "python",
   "nbconvert_exporter": "python",
   "pygments_lexer": "ipython3",
   "version": "3.9.7"
  }
 },
 "nbformat": 4,
 "nbformat_minor": 5
}
