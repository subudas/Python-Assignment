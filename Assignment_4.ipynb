{
 "cells": [
  {
   "cell_type": "raw",
   "id": "3d32b223",
   "metadata": {},
   "source": [
    "1. What exactly is []?\n",
    "Ans:- [] is list"
   ]
  },
  {
   "cell_type": "raw",
   "id": "fad444f1",
   "metadata": {},
   "source": [
    "2. In a list of values stored in a variable called spam, how would you assign the value 'hello' as the third value? (Assume [2, 4, 6, 8, 10] are in spam.)\n",
    "\n",
    "Ans:- spam[2] = 'hello'"
   ]
  },
  {
   "cell_type": "raw",
   "id": "5656235d",
   "metadata": {},
   "source": [
    "Let's pretend the spam includes the list ['a', 'b', 'c', 'd'] for the next three queries.\n",
    "\n",
    "3. What is the value of spam[int(int('3' * 2) / 11)]?\n",
    "Ans:- The value inside becomes 33/11 =3. \n",
    "      So spam[3] value is 'd'\n",
    "\n",
    "4. What is the value of spam[-1]?\n",
    "Ans:- spam[-1] value is 'd'\n",
    "\n",
    "5. What is the value of spam[:2]?\n",
    "Ans:- spam[:2] value is ['a', 'b']"
   ]
  },
  {
   "cell_type": "raw",
   "id": "9b97f5d7",
   "metadata": {},
   "source": [
    "Let's pretend bacon has the list [3.14, 'cat,' 11, 'cat,' True] for the next three questions.\n",
    "\n",
    "6. What is the value of bacon.index('cat')?\n",
    "Ans:- The value of bacon.index('cat') is 1\n",
    "\n",
    "7. How does bacon.append(99) change the look of the list value in bacon?\n",
    "Ans:- bacon list becomes [3.14, 'cat', 11, 'cat',True, 99]\n",
    "\n",
    "8. How does bacon.remove('cat') change the look of the list in bacon?\n",
    "Ans:- bacon list becomes [3.14, 11, 'cat', True, 99]"
   ]
  },
  {
   "cell_type": "raw",
   "id": "bd4a1ae5",
   "metadata": {},
   "source": [
    "9. What are the list concatenation and list replication operators?\n",
    "Ans:- Concatenation operator is '+' and replication operator is '*'"
   ]
  },
  {
   "cell_type": "raw",
   "id": "3c400628",
   "metadata": {},
   "source": [
    "10. What is difference between the list methods append() and insert()?\n",
    "Ans:- append() adds object to the end of the list while insert() add object at the defined index in the list."
   ]
  },
  {
   "cell_type": "raw",
   "id": "5600796a",
   "metadata": {},
   "source": [
    "11. What are the two methods for removing items from a list?\n",
    "Ans:- pop() and remove() are the two methods for removing items from a list"
   ]
  },
  {
   "cell_type": "raw",
   "id": "1eccd89c",
   "metadata": {},
   "source": [
    "12. Describe how list values and string values are identical.\n",
    "Ans:- List values are elements in index and string values are characters in index."
   ]
  },
  {
   "cell_type": "raw",
   "id": "d1e0bcc1",
   "metadata": {},
   "source": [
    "13. What's the difference between tuples and lists?\n",
    "Ans:- List is mutuable and tuple is immutable i.e. list can be changed whereas tuple can't be changed"
   ]
  },
  {
   "cell_type": "raw",
   "id": "35075cfc",
   "metadata": {},
   "source": [
    "14. How do you type a tuple value that only contains the integer 42?\n",
    "Ans:- t = (42,)"
   ]
  },
  {
   "cell_type": "raw",
   "id": "4a4bbf42",
   "metadata": {},
   "source": [
    "15. How do you get a list value's tuple form? How do you get a tuple value's list form?\n",
    "Ans:- List value's in tuple form using tuple(list.var)\n",
    "      Tuple value's in list form using list(tuple.var)"
   ]
  },
  {
   "cell_type": "raw",
   "id": "dba84bed",
   "metadata": {},
   "source": [
    "16. Variables that \"contain\" list values are not necessarily lists themselves. Instead, what do they contain?\n",
    "Ans:- They may contain strings,integers,float,complex"
   ]
  },
  {
   "cell_type": "raw",
   "id": "256f8471",
   "metadata": {},
   "source": [
    "17. How do you distinguish between copy.copy() and copy.deepcopy()?\n",
    "Ans:- In copy.copy changes made in copied sublist of list effects orignal list.\n",
    "\n",
    "eg:- copy.copy()\n",
    "\n",
    "import copy\n",
    "c = [1,[1,2],3,4]\n",
    "d = copy.copy(c)\n",
    "d[1][0] = 'sam'\n",
    "\n",
    "So now changes made in d will also effect c\n",
    "\n",
    "c = [1, ['sam', 2], 3, 4] and d = [1, ['sam', 2], 3, 4]\n",
    "\n",
    "eg:- copy.deepcopy()\n",
    "import copy\n",
    "a = [1,[1,2],3,4]\n",
    "b = copy.deepcopy(a)\n",
    "b[1][0] = 'sam'\n",
    "So now changes made in b will not effect a\n",
    "\n",
    "a = [1, [1, 2], 3, 4] and b = [1, ['sam', 2], 3, 4]\n"
   ]
  }
 ],
 "metadata": {
  "kernelspec": {
   "display_name": "Python 3 (ipykernel)",
   "language": "python",
   "name": "python3"
  },
  "language_info": {
   "codemirror_mode": {
    "name": "ipython",
    "version": 3
   },
   "file_extension": ".py",
   "mimetype": "text/x-python",
   "name": "python",
   "nbconvert_exporter": "python",
   "pygments_lexer": "ipython3",
   "version": "3.9.7"
  }
 },
 "nbformat": 4,
 "nbformat_minor": 5
}
